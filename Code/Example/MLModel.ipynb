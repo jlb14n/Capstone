{
 "cells": [
  {
   "cell_type": "code",
   "execution_count": 5,
   "metadata": {},
   "outputs": [],
   "source": [
    "import pandas as pd\n",
    "from sklearn.model_selection import train_test_split\n",
    "from sklearn.linear_model import LinearRegression\n",
    "from sklearn.preprocessing import scale\n",
    "import numpy as np\n",
    "import pymssql\n"
   ]
  },
  {
   "cell_type": "code",
   "execution_count": 6,
   "metadata": {},
   "outputs": [
    {
     "name": "stderr",
     "output_type": "stream",
     "text": [
      "C:\\Users\\jbartell\\Anaconda3\\envs\\PowerBI\\lib\\site-packages\\pandas\\io\\sql.py:758: UserWarning: pandas only support SQLAlchemy connectable(engine/connection) ordatabase string URI or sqlite3 DBAPI2 connectionother DBAPI2 objects are not tested, please consider using SQLAlchemy\n",
      "  warnings.warn(\n"
     ]
    },
    {
     "name": "stdout",
     "output_type": "stream",
     "text": [
      "<class 'pandas.core.frame.DataFrame'>\n",
      "RangeIndex: 91344 entries, 0 to 91343\n",
      "Data columns (total 9 columns):\n",
      " #   Column    Non-Null Count  Dtype  \n",
      "---  ------    --------------  -----  \n",
      " 0   id        85344 non-null  float64\n",
      " 1   name      91344 non-null  object \n",
      " 2   height    91344 non-null  float64\n",
      " 3   weight    91344 non-null  float64\n",
      " 4   type      91344 non-null  object \n",
      " 5   place     91344 non-null  object \n",
      " 6   lat       91344 non-null  float64\n",
      " 7   long      91344 non-null  float64\n",
      " 8   consumed  91344 non-null  int64  \n",
      "dtypes: float64(5), int64(1), object(3)\n",
      "memory usage: 6.3+ MB\n"
     ]
    }
   ],
   "source": [
    "from config import database\n",
    "from config import table\n",
    "from config import username\n",
    "from config import password\n",
    "from config import server\n",
    "conn = pymssql.connect(server,username,password,database)\n",
    "cursor = conn.cursor()\n",
    "query = f\"SELECT * FROM {table}\"\n",
    "df = pd.read_sql(query,conn)\n",
    "df.info()"
   ]
  },
  {
   "cell_type": "code",
   "execution_count": null,
   "metadata": {},
   "outputs": [],
   "source": []
  }
 ],
 "metadata": {
  "interpreter": {
   "hash": "f4bc19261f267a14ea79ef0592fad998b095bdcd9019ab91761260fdb8eba535"
  },
  "kernelspec": {
   "display_name": "Python 3.9.7 64-bit ('PowerBI': conda)",
   "language": "python",
   "name": "python3"
  },
  "language_info": {
   "codemirror_mode": {
    "name": "ipython",
    "version": 3
   },
   "file_extension": ".py",
   "mimetype": "text/x-python",
   "name": "python",
   "nbconvert_exporter": "python",
   "pygments_lexer": "ipython3",
   "version": "3.9.7"
  },
  "orig_nbformat": 4
 },
 "nbformat": 4,
 "nbformat_minor": 2
}
