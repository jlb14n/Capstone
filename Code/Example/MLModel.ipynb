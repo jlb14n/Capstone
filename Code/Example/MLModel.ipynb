{
 "cells": [
  {
   "cell_type": "code",
   "execution_count": 21,
   "metadata": {},
   "outputs": [],
   "source": [
    "import pandas as pd\n",
    "from sklearn.model_selection import train_test_split\n",
    "from sklearn.linear_model import LinearRegression\n",
    "from sklearn.preprocessing import scale\n",
    "import numpy as np\n",
    "import pymssql\n"
   ]
  },
  {
   "cell_type": "code",
   "execution_count": 22,
   "metadata": {},
   "outputs": [
    {
     "name": "stdout",
     "output_type": "stream",
     "text": [
      "gen10-data-fundamentals-21-11-sql-server.database.windows.net justin T3STPASSW0RD! Jadr-SQL-Database CAAsthmaData\n",
      "<class 'pandas.core.frame.DataFrame'>\n",
      "RangeIndex: 286 entries, 0 to 285\n",
      "Data columns (total 5 columns):\n",
      " #   Column                      Non-Null Count  Dtype  \n",
      "---  ------                      --------------  -----  \n",
      " 0   STATE                       286 non-null    object \n",
      " 1   COUNTY                      286 non-null    object \n",
      " 2   YEAR                        286 non-null    int64  \n",
      " 3   NUMBER OF ED VISITS         286 non-null    int64  \n",
      " 4   AGE-ADJUSTED ED VISIT RATE  286 non-null    float64\n",
      "dtypes: float64(1), int64(2), object(2)\n",
      "memory usage: 11.3+ KB\n"
     ]
    },
    {
     "name": "stderr",
     "output_type": "stream",
     "text": [
      "C:\\Users\\jbartell\\Anaconda3\\envs\\PowerBI\\lib\\site-packages\\pandas\\io\\sql.py:758: UserWarning: pandas only support SQLAlchemy connectable(engine/connection) ordatabase string URI or sqlite3 DBAPI2 connectionother DBAPI2 objects are not tested, please consider using SQLAlchemy\n",
      "  warnings.warn(\n"
     ]
    }
   ],
   "source": [
    "from config import database\n",
    "from config import table\n",
    "from config import username\n",
    "from config import password\n",
    "from config import server\n",
    "\n",
    "print(server,username,password,database,table)\n",
    "conn = pymssql.connect(server,username,password,database)\n",
    "cursor = conn.cursor()\n",
    "query = f\"SELECT * FROM {table}\"\n",
    "df = pd.read_sql(query,conn)\n",
    "df.info()"
   ]
  },
  {
   "cell_type": "code",
   "execution_count": 23,
   "metadata": {},
   "outputs": [],
   "source": [
    "df.drop(df[df['COUNTY']=='California'].index,axis=0,inplace=True,errors='ignore')\n",
    "df.drop(['STATE','NUMBER OF ED VISITS'],axis=1,inplace=True)"
   ]
  },
  {
   "cell_type": "code",
   "execution_count": 24,
   "metadata": {},
   "outputs": [],
   "source": [
    "outcome='AGE-ADJUSTED ED VISIT RATE'\n",
    "testSize=0.25\n",
    "randomState=0\n",
    "\n",
    "df = pd.get_dummies(df,drop_first=True)\n",
    "X = df.drop(outcome,axis=1)\n",
    "y = df[outcome]\n",
    "\n",
    "X.to_csv('CleanedTestFullSet.csv')\n",
    "\n",
    "X_train, X_test, y_train, y_test = train_test_split(X, y, test_size=testSize, random_state=randomState)\n",
    "X_test=pd.DataFrame(scale(X_test))\n",
    "X_train=pd.DataFrame(scale(X_train))\n",
    "\n",
    "# for index,name in enumerate(X_train.columns):\n",
    "#     columns=df.drop(outcome,axis=1).columns\n",
    "#.to_csv('X_test.csv')\n",
    "\n",
    "reg = LinearRegression().fit(X_train,y_train)"
   ]
  },
  {
   "cell_type": "code",
   "execution_count": 25,
   "metadata": {},
   "outputs": [
    {
     "data": {
      "text/plain": [
       "['regression_model_example.model']"
      ]
     },
     "execution_count": 25,
     "metadata": {},
     "output_type": "execute_result"
    }
   ],
   "source": [
    "from joblib import dump, load\n",
    "dump(reg, 'regression_model_example.model')"
   ]
  }
 ],
 "metadata": {
  "interpreter": {
   "hash": "f4bc19261f267a14ea79ef0592fad998b095bdcd9019ab91761260fdb8eba535"
  },
  "kernelspec": {
   "display_name": "Python 3.9.7 64-bit ('PowerBI': conda)",
   "language": "python",
   "name": "python3"
  },
  "language_info": {
   "codemirror_mode": {
    "name": "ipython",
    "version": 3
   },
   "file_extension": ".py",
   "mimetype": "text/x-python",
   "name": "python",
   "nbconvert_exporter": "python",
   "pygments_lexer": "ipython3",
   "version": "3.9.7"
  },
  "orig_nbformat": 4
 },
 "nbformat": 4,
 "nbformat_minor": 2
}
