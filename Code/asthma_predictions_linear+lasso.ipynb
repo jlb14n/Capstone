{
 "cells": [
  {
   "cell_type": "code",
   "execution_count": 1,
   "id": "05b37a17",
   "metadata": {},
   "outputs": [],
   "source": [
    "import scipy.stats\n",
    "import numpy as np\n",
    "import math\n",
    "from sklearn.metrics import mean_absolute_error\n",
    "import matplotlib.pyplot as plt\n",
    "import pandas as pd\n",
    "from sklearn.impute import SimpleImputer\n",
    "from sklearn.model_selection import train_test_split\n",
    "from sklearn.linear_model import LinearRegression\n",
    "from sklearn.metrics import mean_squared_error\n",
    "from sklearn.metrics import r2_score\n",
    "from sklearn import linear_model\n",
    "import mysql.connector\n",
    "import mysql.connector as mysql\n",
    "import MySQLdb\n",
    "import pyodbc\n",
    "import sqlalchemy\n",
    "from joblib import dump, load"
   ]
  },
  {
   "cell_type": "code",
   "execution_count": 2,
   "id": "63e2023a",
   "metadata": {},
   "outputs": [
    {
     "name": "stderr",
     "output_type": "stream",
     "text": [
      "C:\\Users\\Abigail\\anaconda3\\envs\\powerbi\\lib\\site-packages\\pandas\\io\\sql.py:758: UserWarning: pandas only support SQLAlchemy connectable(engine/connection) ordatabase string URI or sqlite3 DBAPI2 connectionother DBAPI2 objects are not tested, please consider using SQLAlchemy\n",
      "  warnings.warn(\n",
      "C:\\Users\\Abigail\\anaconda3\\envs\\powerbi\\lib\\site-packages\\pandas\\io\\sql.py:758: UserWarning: pandas only support SQLAlchemy connectable(engine/connection) ordatabase string URI or sqlite3 DBAPI2 connectionother DBAPI2 objects are not tested, please consider using SQLAlchemy\n",
      "  warnings.warn(\n",
      "C:\\Users\\Abigail\\anaconda3\\envs\\powerbi\\lib\\site-packages\\pandas\\io\\sql.py:758: UserWarning: pandas only support SQLAlchemy connectable(engine/connection) ordatabase string URI or sqlite3 DBAPI2 connectionother DBAPI2 objects are not tested, please consider using SQLAlchemy\n",
      "  warnings.warn(\n",
      "C:\\Users\\Abigail\\anaconda3\\envs\\powerbi\\lib\\site-packages\\pandas\\io\\sql.py:758: UserWarning: pandas only support SQLAlchemy connectable(engine/connection) ordatabase string URI or sqlite3 DBAPI2 connectionother DBAPI2 objects are not tested, please consider using SQLAlchemy\n",
      "  warnings.warn(\n",
      "C:\\Users\\Abigail\\anaconda3\\envs\\powerbi\\lib\\site-packages\\pandas\\io\\sql.py:758: UserWarning: pandas only support SQLAlchemy connectable(engine/connection) ordatabase string URI or sqlite3 DBAPI2 connectionother DBAPI2 objects are not tested, please consider using SQLAlchemy\n",
      "  warnings.warn(\n"
     ]
    }
   ],
   "source": [
    "# Establish the connection\n",
    "server = 'gen10-data-fundamentals-21-11-sql-server.database.windows.net'\n",
    "database = 'Jadr-SQL-Database'\n",
    "username = 'gen10dbadmin'\n",
    "password = 'NOi2KIaUiKtV0AO2_K-qC4SoI_oUvepg'\n",
    "driver= '{ODBC Driver 17 for SQL Server}'\n",
    "\n",
    "conn = pyodbc.connect('DRIVER='+driver+';SERVER='+server+';PORT=1433;DATABASE='+database+';UID='+username+';PWD='+password)\n",
    "\n",
    "# Select table here + input proper column names\n",
    "sql_query1 = pd.read_sql_query ('''SELECT * FROM CAAsthmaData''', conn)\n",
    "sql_query2 = pd.read_sql_query ('''SELECT * FROM AirQualityDataCounty''', conn)\n",
    "sql_query3 = pd.read_sql_query ('''SELECT * FROM CensusIndustryData''', conn)\n",
    "sql_query4 = pd.read_sql_query('''SELECT * FROM County''',conn)\n",
    "sql_query5 = pd.read_sql_query('''SELECT * FROM State''',conn)\n",
    "\n",
    "asthma = pd.DataFrame(sql_query1, columns = ['ASTHMA_ID', 'COUNTY_ID', 'YEAR','NUM_ED_VISITS','AGE_ADJ_ED_VISITS','AQ_ID'])\n",
    "airq = pd.DataFrame(sql_query2, columns = ['AQ_ID','COUNTY_ID','YEAR','LEAD_MEAN','LEAD_1STMAX','LEAD_99PERC','LEAD_STD','LEAD_2NDMAX','LEAD_METHOD_ID','LEAD_METRIC_ID','LEAD_UNITS_ID','NO2_MEAN','NO2_1STMAX','NO2_99PERC','NO2_STD','NO2_2NDMAX','NO2_METHOD_ID','NO2_METRIC_ID','NO2_UNITS_ID','OZONE_MEAN','OZONE_1STMAX','OZONE_99PERC','OZONE_STD','OZONE_2NDMAX','OZONE_METHOD_ID','OZONE_METRIC_ID','OZONE_UNITS_ID','PM10_MEAN','PM10_1STMAX','PM10_99PERC','PM10_STD','PM10_2NDMAX','PM10_METHOD_ID','PM10_METRIC_ID','PM10_UNITS_ID','PM25_MEAN','PM25_1STMAX','PM25_99PERC','PM25_STD','PM25_2NDMAX','PM25_METHOD_ID','PM25_METRIC_ID','PM25_UNITS_ID','SO2_MEAN','SO2_1STMAX','SO2_99PERC','SO2_STD','SO2_2NDMAX','SO2_METHOD_ID','SO2_METRIC_ID','SO2_UNITS_ID'])\n",
    "county = pd.DataFrame(sql_query4, columns = ['COUNTY_ID', 'COUNTY_NAME', 'STATE_ID'])\n",
    "census = pd.DataFrame(sql_query3,columns = ['CENSUS_ID','COUNTY_ID','YEAR','NAICS2012_LABEL','FIRMALL','RCPALL','FIRMPDEMP','RCPPDEMP','EMP','FIRMNOPD','RCPNOPD'])\n",
    "state = pd.DataFrame(sql_query5, columns = ['STATE_ID', 'STATE_ABBR', 'STATE_NAME'])\n",
    "\n",
    "conn.close()"
   ]
  },
  {
   "cell_type": "code",
   "execution_count": 3,
   "id": "73e70ceb",
   "metadata": {},
   "outputs": [
    {
     "data": {
      "text/html": [
       "<div>\n",
       "<style scoped>\n",
       "    .dataframe tbody tr th:only-of-type {\n",
       "        vertical-align: middle;\n",
       "    }\n",
       "\n",
       "    .dataframe tbody tr th {\n",
       "        vertical-align: top;\n",
       "    }\n",
       "\n",
       "    .dataframe thead th {\n",
       "        text-align: right;\n",
       "    }\n",
       "</style>\n",
       "<table border=\"1\" class=\"dataframe\">\n",
       "  <thead>\n",
       "    <tr style=\"text-align: right;\">\n",
       "      <th></th>\n",
       "      <th>ASTHMA_ID</th>\n",
       "      <th>COUNTY_ID_x</th>\n",
       "      <th>YEAR_x</th>\n",
       "      <th>NUM_ED_VISITS</th>\n",
       "      <th>AGE_ADJ_ED_VISITS</th>\n",
       "      <th>AQ_ID</th>\n",
       "      <th>LEAD_MEAN</th>\n",
       "      <th>LEAD_1STMAX</th>\n",
       "      <th>LEAD_99PERC</th>\n",
       "      <th>LEAD_STD</th>\n",
       "      <th>...</th>\n",
       "      <th>PM25_METRIC_ID</th>\n",
       "      <th>PM25_UNITS_ID</th>\n",
       "      <th>SO2_MEAN</th>\n",
       "      <th>SO2_1STMAX</th>\n",
       "      <th>SO2_99PERC</th>\n",
       "      <th>SO2_STD</th>\n",
       "      <th>SO2_2NDMAX</th>\n",
       "      <th>SO2_METHOD_ID</th>\n",
       "      <th>SO2_METRIC_ID</th>\n",
       "      <th>SO2_UNITS_ID</th>\n",
       "    </tr>\n",
       "  </thead>\n",
       "  <tbody>\n",
       "    <tr>\n",
       "      <th>1</th>\n",
       "      <td>2</td>\n",
       "      <td>3085.0</td>\n",
       "      <td>2015</td>\n",
       "      <td>9939</td>\n",
       "      <td>64.3</td>\n",
       "      <td>989.0</td>\n",
       "      <td>NaN</td>\n",
       "      <td>NaN</td>\n",
       "      <td>NaN</td>\n",
       "      <td>NaN</td>\n",
       "      <td>...</td>\n",
       "      <td>2.0</td>\n",
       "      <td>2.0</td>\n",
       "      <td>NaN</td>\n",
       "      <td>NaN</td>\n",
       "      <td>NaN</td>\n",
       "      <td>NaN</td>\n",
       "      <td>NaN</td>\n",
       "      <td>3.0</td>\n",
       "      <td>2.0</td>\n",
       "      <td>2.0</td>\n",
       "    </tr>\n",
       "    <tr>\n",
       "      <th>2</th>\n",
       "      <td>3</td>\n",
       "      <td>843.0</td>\n",
       "      <td>2015</td>\n",
       "      <td>196</td>\n",
       "      <td>58.4</td>\n",
       "      <td>910.0</td>\n",
       "      <td>NaN</td>\n",
       "      <td>NaN</td>\n",
       "      <td>NaN</td>\n",
       "      <td>NaN</td>\n",
       "      <td>...</td>\n",
       "      <td>2.0</td>\n",
       "      <td>2.0</td>\n",
       "      <td>NaN</td>\n",
       "      <td>NaN</td>\n",
       "      <td>NaN</td>\n",
       "      <td>NaN</td>\n",
       "      <td>NaN</td>\n",
       "      <td>3.0</td>\n",
       "      <td>2.0</td>\n",
       "      <td>2.0</td>\n",
       "    </tr>\n",
       "    <tr>\n",
       "      <th>3</th>\n",
       "      <td>4</td>\n",
       "      <td>152.0</td>\n",
       "      <td>2015</td>\n",
       "      <td>1044</td>\n",
       "      <td>50.2</td>\n",
       "      <td>886.0</td>\n",
       "      <td>NaN</td>\n",
       "      <td>NaN</td>\n",
       "      <td>NaN</td>\n",
       "      <td>NaN</td>\n",
       "      <td>...</td>\n",
       "      <td>2.0</td>\n",
       "      <td>2.0</td>\n",
       "      <td>NaN</td>\n",
       "      <td>NaN</td>\n",
       "      <td>NaN</td>\n",
       "      <td>NaN</td>\n",
       "      <td>NaN</td>\n",
       "      <td>9.0</td>\n",
       "      <td>6.0</td>\n",
       "      <td>3.0</td>\n",
       "    </tr>\n",
       "    <tr>\n",
       "      <th>4</th>\n",
       "      <td>5</td>\n",
       "      <td>65.0</td>\n",
       "      <td>2015</td>\n",
       "      <td>185</td>\n",
       "      <td>48.0</td>\n",
       "      <td>812.0</td>\n",
       "      <td>NaN</td>\n",
       "      <td>NaN</td>\n",
       "      <td>NaN</td>\n",
       "      <td>NaN</td>\n",
       "      <td>...</td>\n",
       "      <td>2.0</td>\n",
       "      <td>2.0</td>\n",
       "      <td>NaN</td>\n",
       "      <td>NaN</td>\n",
       "      <td>NaN</td>\n",
       "      <td>NaN</td>\n",
       "      <td>NaN</td>\n",
       "      <td>3.0</td>\n",
       "      <td>2.0</td>\n",
       "      <td>2.0</td>\n",
       "    </tr>\n",
       "    <tr>\n",
       "      <th>5</th>\n",
       "      <td>6</td>\n",
       "      <td>545.0</td>\n",
       "      <td>2015</td>\n",
       "      <td>97</td>\n",
       "      <td>41.4</td>\n",
       "      <td>808.0</td>\n",
       "      <td>NaN</td>\n",
       "      <td>NaN</td>\n",
       "      <td>NaN</td>\n",
       "      <td>NaN</td>\n",
       "      <td>...</td>\n",
       "      <td>2.0</td>\n",
       "      <td>2.0</td>\n",
       "      <td>NaN</td>\n",
       "      <td>NaN</td>\n",
       "      <td>NaN</td>\n",
       "      <td>NaN</td>\n",
       "      <td>NaN</td>\n",
       "      <td>3.0</td>\n",
       "      <td>2.0</td>\n",
       "      <td>2.0</td>\n",
       "    </tr>\n",
       "    <tr>\n",
       "      <th>...</th>\n",
       "      <td>...</td>\n",
       "      <td>...</td>\n",
       "      <td>...</td>\n",
       "      <td>...</td>\n",
       "      <td>...</td>\n",
       "      <td>...</td>\n",
       "      <td>...</td>\n",
       "      <td>...</td>\n",
       "      <td>...</td>\n",
       "      <td>...</td>\n",
       "      <td>...</td>\n",
       "      <td>...</td>\n",
       "      <td>...</td>\n",
       "      <td>...</td>\n",
       "      <td>...</td>\n",
       "      <td>...</td>\n",
       "      <td>...</td>\n",
       "      <td>...</td>\n",
       "      <td>...</td>\n",
       "      <td>...</td>\n",
       "      <td>...</td>\n",
       "    </tr>\n",
       "    <tr>\n",
       "      <th>281</th>\n",
       "      <td>282</td>\n",
       "      <td>1720.0</td>\n",
       "      <td>2019</td>\n",
       "      <td>1996</td>\n",
       "      <td>40.2</td>\n",
       "      <td>811.0</td>\n",
       "      <td>NaN</td>\n",
       "      <td>NaN</td>\n",
       "      <td>NaN</td>\n",
       "      <td>NaN</td>\n",
       "      <td>...</td>\n",
       "      <td>2.0</td>\n",
       "      <td>2.0</td>\n",
       "      <td>NaN</td>\n",
       "      <td>NaN</td>\n",
       "      <td>NaN</td>\n",
       "      <td>NaN</td>\n",
       "      <td>NaN</td>\n",
       "      <td>3.0</td>\n",
       "      <td>2.0</td>\n",
       "      <td>2.0</td>\n",
       "    </tr>\n",
       "    <tr>\n",
       "      <th>282</th>\n",
       "      <td>283</td>\n",
       "      <td>1144.0</td>\n",
       "      <td>2019</td>\n",
       "      <td>186</td>\n",
       "      <td>44.0</td>\n",
       "      <td>814.0</td>\n",
       "      <td>NaN</td>\n",
       "      <td>NaN</td>\n",
       "      <td>NaN</td>\n",
       "      <td>NaN</td>\n",
       "      <td>...</td>\n",
       "      <td>2.0</td>\n",
       "      <td>2.0</td>\n",
       "      <td>NaN</td>\n",
       "      <td>NaN</td>\n",
       "      <td>NaN</td>\n",
       "      <td>NaN</td>\n",
       "      <td>NaN</td>\n",
       "      <td>3.0</td>\n",
       "      <td>2.0</td>\n",
       "      <td>2.0</td>\n",
       "    </tr>\n",
       "    <tr>\n",
       "      <th>283</th>\n",
       "      <td>284</td>\n",
       "      <td>1406.0</td>\n",
       "      <td>2019</td>\n",
       "      <td>2413</td>\n",
       "      <td>29.8</td>\n",
       "      <td>901.0</td>\n",
       "      <td>NaN</td>\n",
       "      <td>NaN</td>\n",
       "      <td>NaN</td>\n",
       "      <td>NaN</td>\n",
       "      <td>...</td>\n",
       "      <td>5.0</td>\n",
       "      <td>1.0</td>\n",
       "      <td>NaN</td>\n",
       "      <td>NaN</td>\n",
       "      <td>NaN</td>\n",
       "      <td>NaN</td>\n",
       "      <td>NaN</td>\n",
       "      <td>9.0</td>\n",
       "      <td>6.0</td>\n",
       "      <td>3.0</td>\n",
       "    </tr>\n",
       "    <tr>\n",
       "      <th>284</th>\n",
       "      <td>285</td>\n",
       "      <td>1994.0</td>\n",
       "      <td>2019</td>\n",
       "      <td>743</td>\n",
       "      <td>34.5</td>\n",
       "      <td>937.0</td>\n",
       "      <td>NaN</td>\n",
       "      <td>NaN</td>\n",
       "      <td>NaN</td>\n",
       "      <td>NaN</td>\n",
       "      <td>...</td>\n",
       "      <td>2.0</td>\n",
       "      <td>2.0</td>\n",
       "      <td>NaN</td>\n",
       "      <td>NaN</td>\n",
       "      <td>NaN</td>\n",
       "      <td>NaN</td>\n",
       "      <td>NaN</td>\n",
       "      <td>3.0</td>\n",
       "      <td>2.0</td>\n",
       "      <td>2.0</td>\n",
       "    </tr>\n",
       "    <tr>\n",
       "      <th>285</th>\n",
       "      <td>286</td>\n",
       "      <td>782.0</td>\n",
       "      <td>2019</td>\n",
       "      <td>328</td>\n",
       "      <td>42.3</td>\n",
       "      <td>NaN</td>\n",
       "      <td>NaN</td>\n",
       "      <td>NaN</td>\n",
       "      <td>NaN</td>\n",
       "      <td>NaN</td>\n",
       "      <td>...</td>\n",
       "      <td>NaN</td>\n",
       "      <td>NaN</td>\n",
       "      <td>NaN</td>\n",
       "      <td>NaN</td>\n",
       "      <td>NaN</td>\n",
       "      <td>NaN</td>\n",
       "      <td>NaN</td>\n",
       "      <td>NaN</td>\n",
       "      <td>NaN</td>\n",
       "      <td>NaN</td>\n",
       "    </tr>\n",
       "  </tbody>\n",
       "</table>\n",
       "<p>285 rows × 54 columns</p>\n",
       "</div>"
      ],
      "text/plain": [
       "     ASTHMA_ID  COUNTY_ID_x  YEAR_x  NUM_ED_VISITS  AGE_ADJ_ED_VISITS  AQ_ID  \\\n",
       "1            2       3085.0    2015           9939               64.3  989.0   \n",
       "2            3        843.0    2015            196               58.4  910.0   \n",
       "3            4        152.0    2015           1044               50.2  886.0   \n",
       "4            5         65.0    2015            185               48.0  812.0   \n",
       "5            6        545.0    2015             97               41.4  808.0   \n",
       "..         ...          ...     ...            ...                ...    ...   \n",
       "281        282       1720.0    2019           1996               40.2  811.0   \n",
       "282        283       1144.0    2019            186               44.0  814.0   \n",
       "283        284       1406.0    2019           2413               29.8  901.0   \n",
       "284        285       1994.0    2019            743               34.5  937.0   \n",
       "285        286        782.0    2019            328               42.3    NaN   \n",
       "\n",
       "     LEAD_MEAN  LEAD_1STMAX  LEAD_99PERC  LEAD_STD  ...  PM25_METRIC_ID  \\\n",
       "1          NaN          NaN          NaN       NaN  ...             2.0   \n",
       "2          NaN          NaN          NaN       NaN  ...             2.0   \n",
       "3          NaN          NaN          NaN       NaN  ...             2.0   \n",
       "4          NaN          NaN          NaN       NaN  ...             2.0   \n",
       "5          NaN          NaN          NaN       NaN  ...             2.0   \n",
       "..         ...          ...          ...       ...  ...             ...   \n",
       "281        NaN          NaN          NaN       NaN  ...             2.0   \n",
       "282        NaN          NaN          NaN       NaN  ...             2.0   \n",
       "283        NaN          NaN          NaN       NaN  ...             5.0   \n",
       "284        NaN          NaN          NaN       NaN  ...             2.0   \n",
       "285        NaN          NaN          NaN       NaN  ...             NaN   \n",
       "\n",
       "     PM25_UNITS_ID  SO2_MEAN  SO2_1STMAX  SO2_99PERC  SO2_STD  SO2_2NDMAX  \\\n",
       "1              2.0       NaN         NaN         NaN      NaN         NaN   \n",
       "2              2.0       NaN         NaN         NaN      NaN         NaN   \n",
       "3              2.0       NaN         NaN         NaN      NaN         NaN   \n",
       "4              2.0       NaN         NaN         NaN      NaN         NaN   \n",
       "5              2.0       NaN         NaN         NaN      NaN         NaN   \n",
       "..             ...       ...         ...         ...      ...         ...   \n",
       "281            2.0       NaN         NaN         NaN      NaN         NaN   \n",
       "282            2.0       NaN         NaN         NaN      NaN         NaN   \n",
       "283            1.0       NaN         NaN         NaN      NaN         NaN   \n",
       "284            2.0       NaN         NaN         NaN      NaN         NaN   \n",
       "285            NaN       NaN         NaN         NaN      NaN         NaN   \n",
       "\n",
       "     SO2_METHOD_ID  SO2_METRIC_ID  SO2_UNITS_ID  \n",
       "1              3.0            2.0           2.0  \n",
       "2              3.0            2.0           2.0  \n",
       "3              9.0            6.0           3.0  \n",
       "4              3.0            2.0           2.0  \n",
       "5              3.0            2.0           2.0  \n",
       "..             ...            ...           ...  \n",
       "281            3.0            2.0           2.0  \n",
       "282            3.0            2.0           2.0  \n",
       "283            9.0            6.0           3.0  \n",
       "284            3.0            2.0           2.0  \n",
       "285            NaN            NaN           NaN  \n",
       "\n",
       "[285 rows x 54 columns]"
      ]
     },
     "execution_count": 3,
     "metadata": {},
     "output_type": "execute_result"
    }
   ],
   "source": [
    "train = pd.merge(asthma,airq,on=['AQ_ID'],how='left')\n",
    "train.drop(['COUNTY_ID_y','YEAR_y'],axis=1,inplace=True)\n",
    "train.drop(0,axis=0,inplace=True)\n",
    "train"
   ]
  },
  {
   "cell_type": "code",
   "execution_count": 4,
   "id": "9c0c6d39",
   "metadata": {},
   "outputs": [],
   "source": [
    "#train.info()"
   ]
  },
  {
   "cell_type": "markdown",
   "id": "0d12f65e",
   "metadata": {},
   "source": [
    "### Model #1 : Impute all nulls w/ mean"
   ]
  },
  {
   "cell_type": "code",
   "execution_count": 5,
   "id": "48bb13ff",
   "metadata": {},
   "outputs": [],
   "source": [
    "# Separate independent from dependent variables \n",
    "# Isolate ED visits\n",
    "aq_factors = train[['NO2_MEAN','NO2_STD','OZONE_MEAN','OZONE_STD','PM25_MEAN','PM25_STD']]\n",
    "#aq_factors = train[['NO2_MEAN','OZONE_MEAN','PM25_MEAN']]\n",
    "ed_visits = train[['AGE_ADJ_ED_VISITS']]"
   ]
  },
  {
   "cell_type": "code",
   "execution_count": 6,
   "id": "a18ca6fc",
   "metadata": {},
   "outputs": [],
   "source": [
    "# create train + test sets\n",
    "features = aq_factors.columns\n",
    "X = aq_factors[features]\n",
    "y = ed_visits['AGE_ADJ_ED_VISITS'].values\n",
    "X_train, X_test, y_train, y_test = train_test_split(X, y, test_size=0.3, random_state=0)"
   ]
  },
  {
   "cell_type": "code",
   "execution_count": 7,
   "id": "5b84f666",
   "metadata": {},
   "outputs": [],
   "source": [
    "# impute null values w/ mean\n",
    "mean_imp = SimpleImputer(strategy='mean')\n",
    "X_train.iloc[:,:] = mean_imp.fit_transform(X_train)\n",
    "X_test.iloc[:,:] = mean_imp.fit_transform(X_test)"
   ]
  },
  {
   "cell_type": "code",
   "execution_count": 8,
   "id": "03fea217",
   "metadata": {},
   "outputs": [
    {
     "name": "stdout",
     "output_type": "stream",
     "text": [
      "Train: 0.11994875900537627\n",
      "Test:0.05506438792396895\n"
     ]
    },
    {
     "data": {
      "image/png": "[encoded data removed]",
      "text/plain": [
       "<Figure size 432x288 with 1 Axes>"
      ]
     },
     "metadata": {
      "needs_background": "light"
     },
     "output_type": "display_data"
    }
   ],
   "source": [
    "# train model and assess performance\n",
    "reg = linear_model.LinearRegression()\n",
    "reg.fit(X_train,y_train)\n",
    "print('Train: ' + str(reg.score(X_train,y_train)))\n",
    "print('Test:' + str(reg.score(X_test,y_test)))\n",
    "\n",
    "y_pred = reg.predict(X_test)\n",
    "pred = pd.DataFrame({'Actual':y_test,'Predicted':y_pred})\n",
    "\n",
    "x = pred['Predicted']\n",
    "y = pred['Actual']\n",
    "plt.scatter(x,y,color='lightgreen',label='Linear')\n",
    "m, b = np.polyfit(x,y, 1)\n",
    "plt.plot(x, m*x+b,color='darkgreen')\n",
    "plt.xlabel('Predicted')\n",
    "plt.ylabel('Actual')\n",
    "plt.legend()\n",
    "plt.show()"
   ]
  },
  {
   "cell_type": "code",
   "execution_count": 9,
   "id": "a484e895",
   "metadata": {},
   "outputs": [
    {
     "name": "stderr",
     "output_type": "stream",
     "text": [
      "C:\\Users\\Abigail\\anaconda3\\envs\\powerbi\\lib\\site-packages\\sklearn\\linear_model\\_base.py:141: FutureWarning: 'normalize' was deprecated in version 1.0 and will be removed in 1.2.\n",
      "If you wish to scale the data, use Pipeline with a StandardScaler in a preprocessing stage. To reproduce the previous behavior:\n",
      "\n",
      "from sklearn.pipeline import make_pipeline\n",
      "\n",
      "model = make_pipeline(StandardScaler(with_mean=False), Lasso())\n",
      "\n",
      "If you wish to pass a sample_weight parameter, you need to pass it as a fit parameter to each step of the pipeline as follows:\n",
      "\n",
      "kwargs = {s[0] + '__sample_weight': sample_weight for s in model.steps}\n",
      "model.fit(X, y, **kwargs)\n",
      "\n",
      "Set parameter alpha to: original_alpha * np.sqrt(n_samples). \n",
      "  warnings.warn(\n"
     ]
    },
    {
     "name": "stdout",
     "output_type": "stream",
     "text": [
      "Train: 0.11842473013448629\n",
      "Test: 0.05901111113424473\n"
     ]
    },
    {
     "data": {
      "image/png": "[encoded data removed]",
      "text/plain": [
       "<Figure size 432x288 with 1 Axes>"
      ]
     },
     "metadata": {
      "needs_background": "light"
     },
     "output_type": "display_data"
    }
   ],
   "source": [
    "# trying lasso\n",
    "lasso = linear_model.Lasso(alpha=.01,normalize=True)\n",
    "lasso.fit(X_train,y_train)\n",
    "print('Train: ' + str(lasso.score(X_train,y_train)))\n",
    "print('Test: ' + str(lasso.score(X_test,y_test)))\n",
    "\n",
    "y_lasso_pred = lasso.predict(X_test)\n",
    "lasso_pred = pd.DataFrame({'Actual':y_test,'Predicted':y_lasso_pred})\n",
    "\n",
    "x = lasso_pred['Predicted']\n",
    "y = lasso_pred['Actual']\n",
    "plt.scatter(x,y,color='cornflowerblue',label='Lasso')\n",
    "m, b = np.polyfit(x,y, 1)\n",
    "plt.plot(x, m*x+b,color='darkblue')\n",
    "plt.xlabel('Predicted')\n",
    "plt.ylabel('Actual')\n",
    "plt.legend()\n",
    "plt.show()"
   ]
  },
  {
   "cell_type": "markdown",
   "id": "d04e98ea",
   "metadata": {},
   "source": [
    "### Model #2: drops rows with any null values"
   ]
  },
  {
   "cell_type": "code",
   "execution_count": 10,
   "id": "87e7e158",
   "metadata": {},
   "outputs": [
    {
     "name": "stderr",
     "output_type": "stream",
     "text": [
      "C:\\Users\\Abigail\\AppData\\Local\\Temp\\ipykernel_16468\\3831805179.py:3: SettingWithCopyWarning: \n",
      "A value is trying to be set on a copy of a slice from a DataFrame\n",
      "\n",
      "See the caveats in the documentation: https://pandas.pydata.org/pandas-docs/stable/user_guide/indexing.html#returning-a-view-versus-a-copy\n",
      "  train2.dropna(axis=0,how='any',inplace=True)\n"
     ]
    },
    {
     "data": {
      "text/html": [
       "<div>\n",
       "<style scoped>\n",
       "    .dataframe tbody tr th:only-of-type {\n",
       "        vertical-align: middle;\n",
       "    }\n",
       "\n",
       "    .dataframe tbody tr th {\n",
       "        vertical-align: top;\n",
       "    }\n",
       "\n",
       "    .dataframe thead th {\n",
       "        text-align: right;\n",
       "    }\n",
       "</style>\n",
       "<table border=\"1\" class=\"dataframe\">\n",
       "  <thead>\n",
       "    <tr style=\"text-align: right;\">\n",
       "      <th></th>\n",
       "      <th>NO2_MEAN</th>\n",
       "      <th>OZONE_MEAN</th>\n",
       "      <th>PM25_MEAN</th>\n",
       "      <th>AGE_ADJ_ED_VISITS</th>\n",
       "    </tr>\n",
       "  </thead>\n",
       "  <tbody>\n",
       "    <tr>\n",
       "      <th>3</th>\n",
       "      <td>15.998619</td>\n",
       "      <td>0.047622</td>\n",
       "      <td>9.169578</td>\n",
       "      <td>50.2</td>\n",
       "    </tr>\n",
       "    <tr>\n",
       "      <th>9</th>\n",
       "      <td>18.095623</td>\n",
       "      <td>0.055461</td>\n",
       "      <td>13.883374</td>\n",
       "      <td>77.0</td>\n",
       "    </tr>\n",
       "    <tr>\n",
       "      <th>12</th>\n",
       "      <td>23.415915</td>\n",
       "      <td>0.050835</td>\n",
       "      <td>10.785424</td>\n",
       "      <td>71.2</td>\n",
       "    </tr>\n",
       "    <tr>\n",
       "      <th>14</th>\n",
       "      <td>22.760265</td>\n",
       "      <td>0.056779</td>\n",
       "      <td>16.773005</td>\n",
       "      <td>62.3</td>\n",
       "    </tr>\n",
       "    <tr>\n",
       "      <th>15</th>\n",
       "      <td>19.754986</td>\n",
       "      <td>0.053379</td>\n",
       "      <td>35.754545</td>\n",
       "      <td>78.6</td>\n",
       "    </tr>\n",
       "    <tr>\n",
       "      <th>...</th>\n",
       "      <td>...</td>\n",
       "      <td>...</td>\n",
       "      <td>...</td>\n",
       "      <td>...</td>\n",
       "    </tr>\n",
       "    <tr>\n",
       "      <th>267</th>\n",
       "      <td>18.075582</td>\n",
       "      <td>0.045630</td>\n",
       "      <td>8.573770</td>\n",
       "      <td>57.9</td>\n",
       "    </tr>\n",
       "    <tr>\n",
       "      <th>271</th>\n",
       "      <td>22.578897</td>\n",
       "      <td>0.043112</td>\n",
       "      <td>7.876613</td>\n",
       "      <td>23.9</td>\n",
       "    </tr>\n",
       "    <tr>\n",
       "      <th>278</th>\n",
       "      <td>15.145906</td>\n",
       "      <td>0.047547</td>\n",
       "      <td>8.450142</td>\n",
       "      <td>27.8</td>\n",
       "    </tr>\n",
       "    <tr>\n",
       "      <th>281</th>\n",
       "      <td>21.118895</td>\n",
       "      <td>0.056427</td>\n",
       "      <td>12.897345</td>\n",
       "      <td>40.2</td>\n",
       "    </tr>\n",
       "    <tr>\n",
       "      <th>284</th>\n",
       "      <td>10.089532</td>\n",
       "      <td>0.046279</td>\n",
       "      <td>7.715094</td>\n",
       "      <td>34.5</td>\n",
       "    </tr>\n",
       "  </tbody>\n",
       "</table>\n",
       "<p>86 rows × 4 columns</p>\n",
       "</div>"
      ],
      "text/plain": [
       "      NO2_MEAN  OZONE_MEAN  PM25_MEAN  AGE_ADJ_ED_VISITS\n",
       "3    15.998619    0.047622   9.169578               50.2\n",
       "9    18.095623    0.055461  13.883374               77.0\n",
       "12   23.415915    0.050835  10.785424               71.2\n",
       "14   22.760265    0.056779  16.773005               62.3\n",
       "15   19.754986    0.053379  35.754545               78.6\n",
       "..         ...         ...        ...                ...\n",
       "267  18.075582    0.045630   8.573770               57.9\n",
       "271  22.578897    0.043112   7.876613               23.9\n",
       "278  15.145906    0.047547   8.450142               27.8\n",
       "281  21.118895    0.056427  12.897345               40.2\n",
       "284  10.089532    0.046279   7.715094               34.5\n",
       "\n",
       "[86 rows x 4 columns]"
      ]
     },
     "execution_count": 10,
     "metadata": {},
     "output_type": "execute_result"
    }
   ],
   "source": [
    "## 86 rows remain\n",
    "train2 = train[['NO2_MEAN','OZONE_MEAN','PM25_MEAN','AGE_ADJ_ED_VISITS']]\n",
    "train2.dropna(axis=0,how='any',inplace=True)\n",
    "train2"
   ]
  },
  {
   "cell_type": "code",
   "execution_count": 11,
   "id": "099c7462",
   "metadata": {},
   "outputs": [],
   "source": [
    "train2_aq = train2[['NO2_MEAN','OZONE_MEAN','PM25_MEAN']]\n",
    "train2_ed = train2[['AGE_ADJ_ED_VISITS']]\n",
    "\n",
    "features = train2_aq.columns\n",
    "X = train2_aq[features]\n",
    "y = train2_ed['AGE_ADJ_ED_VISITS'].values\n",
    "X_train, X_test, y_train, y_test = train_test_split(X, y, test_size=0.3, random_state=0)"
   ]
  },
  {
   "cell_type": "code",
   "execution_count": 12,
   "id": "0183dc10",
   "metadata": {},
   "outputs": [
    {
     "name": "stdout",
     "output_type": "stream",
     "text": [
      "Train: 0.20602916006379823\n",
      "Test:0.22685584116410373\n"
     ]
    },
    {
     "data": {
      "image/png": "[encoded data removed]",
      "text/plain": [
       "<Figure size 432x288 with 1 Axes>"
      ]
     },
     "metadata": {
      "needs_background": "light"
     },
     "output_type": "display_data"
    }
   ],
   "source": [
    "reg = linear_model.LinearRegression()\n",
    "reg.fit(X_train,y_train)\n",
    "print('Train: ' + str(reg.score(X_train,y_train)))\n",
    "print('Test:' + str(reg.score(X_test,y_test)))\n",
    "\n",
    "y_pred = reg.predict(X_test)\n",
    "pred = pd.DataFrame({'Actual':y_test,'Predicted':y_pred})\n",
    "\n",
    "x = pred['Predicted']\n",
    "y = pred['Actual']\n",
    "plt.scatter(x,y,color='lightgreen',label='Linear')\n",
    "m, b = np.polyfit(x,y, 1)\n",
    "plt.plot(x, m*x+b,color='darkgreen')\n",
    "plt.xlabel('Predicted')\n",
    "plt.ylabel('Actual')\n",
    "plt.legend()\n",
    "plt.show()"
   ]
  },
  {
   "cell_type": "code",
   "execution_count": 13,
   "id": "cdd53d79",
   "metadata": {},
   "outputs": [
    {
     "data": {
      "text/plain": [
       "['C:\\\\Users\\\\Abigail\\\\Desktop\\\\linear_model2_joblib.model']"
      ]
     },
     "execution_count": 13,
     "metadata": {},
     "output_type": "execute_result"
    }
   ],
   "source": [
    "dump(reg, r\"C:\\Users\\Abigail\\Desktop\\linear_model2_joblib.model\")"
   ]
  },
  {
   "cell_type": "code",
   "execution_count": 14,
   "id": "d1130f18",
   "metadata": {},
   "outputs": [
    {
     "name": "stdout",
     "output_type": "stream",
     "text": [
      "Mean-Squared Error: 213.1772661740374\n",
      "Root-Mean-Square Error: 14.600591295356411\n",
      "Mean Absolute Error: 12.184824438074976\n",
      "R2: 0.22685584116410373\n"
     ]
    }
   ],
   "source": [
    "sq_error = mean_squared_error(y_test,y_pred)\n",
    "ab_error = mean_absolute_error(y_test,y_pred)\n",
    "rmse = math.sqrt(sq_error)\n",
    "r2 = r2_score(y_test,y_pred)\n",
    "print('Mean-Squared Error: ' + str(sq_error))\n",
    "print('Root-Mean-Square Error: ' + str(rmse))\n",
    "print('Mean Absolute Error: ' + str(ab_error))\n",
    "print('R2: ' + str(r2))"
   ]
  },
  {
   "cell_type": "code",
   "execution_count": 15,
   "id": "cbb67e6f",
   "metadata": {},
   "outputs": [
    {
     "name": "stderr",
     "output_type": "stream",
     "text": [
      "C:\\Users\\Abigail\\anaconda3\\envs\\powerbi\\lib\\site-packages\\sklearn\\linear_model\\_base.py:141: FutureWarning: 'normalize' was deprecated in version 1.0 and will be removed in 1.2.\n",
      "If you wish to scale the data, use Pipeline with a StandardScaler in a preprocessing stage. To reproduce the previous behavior:\n",
      "\n",
      "from sklearn.pipeline import make_pipeline\n",
      "\n",
      "model = make_pipeline(StandardScaler(with_mean=False), Lasso())\n",
      "\n",
      "If you wish to pass a sample_weight parameter, you need to pass it as a fit parameter to each step of the pipeline as follows:\n",
      "\n",
      "kwargs = {s[0] + '__sample_weight': sample_weight for s in model.steps}\n",
      "model.fit(X, y, **kwargs)\n",
      "\n",
      "Set parameter alpha to: original_alpha * np.sqrt(n_samples). \n",
      "  warnings.warn(\n"
     ]
    },
    {
     "name": "stdout",
     "output_type": "stream",
     "text": [
      "Train: 0.20602827560301495\n",
      "Test: 0.22651771144821475\n"
     ]
    },
    {
     "data": {
      "image/png": "[encoded data removed]",
      "text/plain": [
       "<Figure size 432x288 with 1 Axes>"
      ]
     },
     "metadata": {
      "needs_background": "light"
     },
     "output_type": "display_data"
    }
   ],
   "source": [
    "lasso = linear_model.Lasso(alpha=.001,normalize=True)\n",
    "lasso.fit(X_train,y_train)\n",
    "\n",
    "print('Train: ' + str(lasso.score(X_train,y_train)))\n",
    "print('Test: ' + str(lasso.score(X_test,y_test)))\n",
    "\n",
    "y_lasso_pred = lasso.predict(X_test)\n",
    "lasso_pred = pd.DataFrame({'Actual':y_test,'Predicted':y_lasso_pred})\n",
    "\n",
    "x = pred['Predicted']\n",
    "y = pred['Actual']\n",
    "plt.scatter(x,y,color='cornflowerblue',label='Lasso')\n",
    "m, b = np.polyfit(x,y, 1)\n",
    "plt.plot(x, m*x+b,color='darkblue')\n",
    "plt.xlabel('Predicted')\n",
    "plt.ylabel('Actual')\n",
    "plt.legend()\n",
    "plt.show()"
   ]
  },
  {
   "cell_type": "code",
   "execution_count": 16,
   "id": "a64090cd",
   "metadata": {
    "scrolled": true
   },
   "outputs": [
    {
     "name": "stdout",
     "output_type": "stream",
     "text": [
      "Mean-Squared Error: 213.1772661740374\n"
     ]
    }
   ],
   "source": [
    "sq_error_lasso = mean_squared_error(y_test,y_lasso_pred)\n",
    "print('Mean-Squared Error: ' + str(sq_error))"
   ]
  },
  {
   "cell_type": "markdown",
   "id": "58acfeba",
   "metadata": {},
   "source": [
    "### Model #3: drops rows with 3 or more nulls + adds SO2_MEAN as feature, imputes remaining nulls w/ mean"
   ]
  },
  {
   "cell_type": "code",
   "execution_count": 17,
   "id": "5d3ea51a",
   "metadata": {},
   "outputs": [
    {
     "name": "stderr",
     "output_type": "stream",
     "text": [
      "C:\\Users\\Abigail\\AppData\\Local\\Temp\\ipykernel_16468\\1312409429.py:3: SettingWithCopyWarning: \n",
      "A value is trying to be set on a copy of a slice from a DataFrame\n",
      "\n",
      "See the caveats in the documentation: https://pandas.pydata.org/pandas-docs/stable/user_guide/indexing.html#returning-a-view-versus-a-copy\n",
      "  train3.dropna(axis=0,how='any',thresh=4,inplace=True)\n"
     ]
    },
    {
     "data": {
      "text/html": [
       "<div>\n",
       "<style scoped>\n",
       "    .dataframe tbody tr th:only-of-type {\n",
       "        vertical-align: middle;\n",
       "    }\n",
       "\n",
       "    .dataframe tbody tr th {\n",
       "        vertical-align: top;\n",
       "    }\n",
       "\n",
       "    .dataframe thead th {\n",
       "        text-align: right;\n",
       "    }\n",
       "</style>\n",
       "<table border=\"1\" class=\"dataframe\">\n",
       "  <thead>\n",
       "    <tr style=\"text-align: right;\">\n",
       "      <th></th>\n",
       "      <th>NO2_MEAN</th>\n",
       "      <th>OZONE_MEAN</th>\n",
       "      <th>PM25_MEAN</th>\n",
       "      <th>SO2_MEAN</th>\n",
       "      <th>AGE_ADJ_ED_VISITS</th>\n",
       "    </tr>\n",
       "  </thead>\n",
       "  <tbody>\n",
       "    <tr>\n",
       "      <th>3</th>\n",
       "      <td>15.998619</td>\n",
       "      <td>0.047622</td>\n",
       "      <td>9.169578</td>\n",
       "      <td>NaN</td>\n",
       "      <td>50.2</td>\n",
       "    </tr>\n",
       "    <tr>\n",
       "      <th>9</th>\n",
       "      <td>18.095623</td>\n",
       "      <td>0.055461</td>\n",
       "      <td>13.883374</td>\n",
       "      <td>1.301389</td>\n",
       "      <td>77.0</td>\n",
       "    </tr>\n",
       "    <tr>\n",
       "      <th>12</th>\n",
       "      <td>23.415915</td>\n",
       "      <td>0.050835</td>\n",
       "      <td>10.785424</td>\n",
       "      <td>2.368732</td>\n",
       "      <td>71.2</td>\n",
       "    </tr>\n",
       "    <tr>\n",
       "      <th>13</th>\n",
       "      <td>NaN</td>\n",
       "      <td>0.048910</td>\n",
       "      <td>5.590909</td>\n",
       "      <td>0.067763</td>\n",
       "      <td>53.5</td>\n",
       "    </tr>\n",
       "    <tr>\n",
       "      <th>14</th>\n",
       "      <td>22.760265</td>\n",
       "      <td>0.056779</td>\n",
       "      <td>16.773005</td>\n",
       "      <td>NaN</td>\n",
       "      <td>62.3</td>\n",
       "    </tr>\n",
       "    <tr>\n",
       "      <th>...</th>\n",
       "      <td>...</td>\n",
       "      <td>...</td>\n",
       "      <td>...</td>\n",
       "      <td>...</td>\n",
       "      <td>...</td>\n",
       "    </tr>\n",
       "    <tr>\n",
       "      <th>267</th>\n",
       "      <td>18.075582</td>\n",
       "      <td>0.045630</td>\n",
       "      <td>8.573770</td>\n",
       "      <td>NaN</td>\n",
       "      <td>57.9</td>\n",
       "    </tr>\n",
       "    <tr>\n",
       "      <th>271</th>\n",
       "      <td>22.578897</td>\n",
       "      <td>0.043112</td>\n",
       "      <td>7.876613</td>\n",
       "      <td>0.547839</td>\n",
       "      <td>23.9</td>\n",
       "    </tr>\n",
       "    <tr>\n",
       "      <th>278</th>\n",
       "      <td>15.145906</td>\n",
       "      <td>0.047547</td>\n",
       "      <td>8.450142</td>\n",
       "      <td>NaN</td>\n",
       "      <td>27.8</td>\n",
       "    </tr>\n",
       "    <tr>\n",
       "      <th>281</th>\n",
       "      <td>21.118895</td>\n",
       "      <td>0.056427</td>\n",
       "      <td>12.897345</td>\n",
       "      <td>NaN</td>\n",
       "      <td>40.2</td>\n",
       "    </tr>\n",
       "    <tr>\n",
       "      <th>284</th>\n",
       "      <td>10.089532</td>\n",
       "      <td>0.046279</td>\n",
       "      <td>7.715094</td>\n",
       "      <td>NaN</td>\n",
       "      <td>34.5</td>\n",
       "    </tr>\n",
       "  </tbody>\n",
       "</table>\n",
       "<p>92 rows × 5 columns</p>\n",
       "</div>"
      ],
      "text/plain": [
       "      NO2_MEAN  OZONE_MEAN  PM25_MEAN  SO2_MEAN  AGE_ADJ_ED_VISITS\n",
       "3    15.998619    0.047622   9.169578       NaN               50.2\n",
       "9    18.095623    0.055461  13.883374  1.301389               77.0\n",
       "12   23.415915    0.050835  10.785424  2.368732               71.2\n",
       "13         NaN    0.048910   5.590909  0.067763               53.5\n",
       "14   22.760265    0.056779  16.773005       NaN               62.3\n",
       "..         ...         ...        ...       ...                ...\n",
       "267  18.075582    0.045630   8.573770       NaN               57.9\n",
       "271  22.578897    0.043112   7.876613  0.547839               23.9\n",
       "278  15.145906    0.047547   8.450142       NaN               27.8\n",
       "281  21.118895    0.056427  12.897345       NaN               40.2\n",
       "284  10.089532    0.046279   7.715094       NaN               34.5\n",
       "\n",
       "[92 rows x 5 columns]"
      ]
     },
     "execution_count": 17,
     "metadata": {},
     "output_type": "execute_result"
    }
   ],
   "source": [
    "# 92 rows remain\n",
    "train3 = train[['NO2_MEAN','OZONE_MEAN','PM25_MEAN','SO2_MEAN','AGE_ADJ_ED_VISITS']]\n",
    "train3.dropna(axis=0,how='any',thresh=4,inplace=True)\n",
    "train3"
   ]
  },
  {
   "cell_type": "code",
   "execution_count": 18,
   "id": "0574d3e8",
   "metadata": {},
   "outputs": [],
   "source": [
    "X = train3[['NO2_MEAN','OZONE_MEAN','PM25_MEAN','SO2_MEAN']]\n",
    "y = train3['AGE_ADJ_ED_VISITS'].values\n",
    "X_train, X_test, y_train, y_test = train_test_split(X, y, test_size=0.25, random_state=0)"
   ]
  },
  {
   "cell_type": "code",
   "execution_count": 19,
   "id": "4849b149",
   "metadata": {},
   "outputs": [],
   "source": [
    "mean_imp = SimpleImputer(strategy='mean')\n",
    "X_train.iloc[:,:] = mean_imp.fit_transform(X_train)\n",
    "X_test.iloc[:,:] = mean_imp.fit_transform(X_test)"
   ]
  },
  {
   "cell_type": "code",
   "execution_count": 20,
   "id": "3df6298e",
   "metadata": {},
   "outputs": [
    {
     "name": "stdout",
     "output_type": "stream",
     "text": [
      "Train: 0.23375664021144882\n",
      "Test:0.345283352201915\n"
     ]
    },
    {
     "data": {
      "image/png": "[encoded data removed]",
      "text/plain": [
       "<Figure size 432x288 with 1 Axes>"
      ]
     },
     "metadata": {
      "needs_background": "light"
     },
     "output_type": "display_data"
    }
   ],
   "source": [
    "reg = linear_model.LinearRegression()\n",
    "reg.fit(X_train,y_train)\n",
    "print('Train: ' + str(reg.score(X_train,y_train)))\n",
    "print('Test:' + str(reg.score(X_test,y_test)))\n",
    "\n",
    "y_pred = reg.predict(X_test)\n",
    "pred = pd.DataFrame({'Actual':y_test,'Predicted':y_pred})\n",
    "\n",
    "x = pred['Predicted']\n",
    "y = pred['Actual']\n",
    "plt.scatter(x,y,color='lightgreen',label='Linear')\n",
    "m, b = np.polyfit(x,y, 1)\n",
    "plt.plot(x, m*x+b,color='green')\n",
    "plt.xlabel('Predicted')\n",
    "plt.ylabel('Actual')\n",
    "plt.show()"
   ]
  },
  {
   "cell_type": "code",
   "execution_count": 21,
   "id": "7c06a4a4",
   "metadata": {},
   "outputs": [
    {
     "data": {
      "text/plain": [
       "['C:\\\\Users\\\\Abigail\\\\Desktop\\\\linear_model3_joblib.model']"
      ]
     },
     "execution_count": 21,
     "metadata": {},
     "output_type": "execute_result"
    }
   ],
   "source": [
    "dump(reg, r\"C:\\Users\\Abigail\\Desktop\\linear_model3_joblib.model\")"
   ]
  },
  {
   "cell_type": "code",
   "execution_count": null,
   "id": "25bc47ae",
   "metadata": {},
   "outputs": [],
   "source": []
  }
 ],
 "metadata": {
  "kernelspec": {
   "display_name": "Python 3 (ipykernel)",
   "language": "python",
   "name": "python3"
  },
  "language_info": {
   "codemirror_mode": {
    "name": "ipython",
    "version": 3
   },
   "file_extension": ".py",
   "mimetype": "text/x-python",
   "name": "python",
   "nbconvert_exporter": "python",
   "pygments_lexer": "ipython3",
   "version": "3.9.7"
  }
 },
 "nbformat": 4,
 "nbformat_minor": 5
}
